{
 "cells": [
  {
   "cell_type": "code",
   "execution_count": null,
   "metadata": {},
   "outputs": [],
   "source": [
    "#Email splitter for separating the username and domain name\n",
    "\n",
    "# Method 1 \n",
    "\n",
    "# intializing the email \n",
    "email =input(\"Enter Your Email address: \").strip()\n",
    "\n",
    "\n",
    "\n",
    "# separating the username and the domain name using slicing: \n",
    "user= email[0:email.index('@')]\n",
    "domain=email[email.index('@')+1:]\n",
    "\n",
    "# printing the result :\n",
    "print('the username is:' +str(user) )\n",
    "print('the domain is:'+str (domain) )"
   ]
  },
  {
   "cell_type": "code",
   "execution_count": null,
   "metadata": {},
   "outputs": [],
   "source": [
    "#Email splitter for separating the username and domain name\n",
    "# Method 2\n",
    "# intializing the email \n",
    "email =input(\"Enter Your Email address: \").strip()\n",
    "\n",
    "\n",
    "# separating the username and the domain name using split method : \n",
    "user_name=email.split('@')[0]\n",
    "domain=email.split('@')[1]\n",
    "\n",
    "# printing the result :\n",
    "print('the username is:' +str(user) )\n",
    "print('the domain is:'+str (domain) )"
   ]
  },
  {
   "cell_type": "code",
   "execution_count": null,
   "metadata": {},
   "outputs": [],
   "source": []
  }
 ],
 "metadata": {
  "kernelspec": {
   "display_name": "Python 3",
   "language": "python",
   "name": "python3"
  },
  "language_info": {
   "codemirror_mode": {
    "name": "ipython",
    "version": 3
   },
   "file_extension": ".py",
   "mimetype": "text/x-python",
   "name": "python",
   "nbconvert_exporter": "python",
   "pygments_lexer": "ipython3",
   "version": "3.8.5"
  }
 },
 "nbformat": 4,
 "nbformat_minor": 4
}
